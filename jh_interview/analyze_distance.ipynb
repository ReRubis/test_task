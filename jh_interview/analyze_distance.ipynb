{
 "cells": [
  {
   "cell_type": "code",
   "execution_count": null,
   "metadata": {},
   "outputs": [],
   "source": [
    "import numpy as np\n",
    "import pandas as pd\n",
    "from pathlib import Path\n",
    "from dataclasses import dataclass, field\n",
    "from jh_interview.models import TransactionModel, PropertyModel, PostcodeModel\n",
    "\n",
    "from hashlib import md5"
   ]
  },
  {
   "cell_type": "code",
   "execution_count": null,
   "metadata": {},
   "outputs": [],
   "source": [
    "# Constants\n",
    "\n",
    "DATA_DIR = Path('../data/')\n",
    "\"\"\"Path to the data directory.\"\"\"\n",
    "\n",
    "PRICE_PAID_FILE_FIRST = DATA_DIR / 'pp-2019.csv'\n",
    "\"\"\"Path to the first price paid data file.\"\"\"\n",
    "\n",
    "PRICE_PAID_FILE_SECOND = DATA_DIR / 'pp-2020.csv'\n",
    "\"\"\"Path to the second price paid data file.\"\"\"\n",
    "\n",
    "POSTCODES_COORDINATES_FILE = DATA_DIR / 'National_Statistics_Postcode_Lookup_UK_Coordinates_20240406.csv'"
   ]
  },
  {
   "cell_type": "code",
   "execution_count": null,
   "metadata": {},
   "outputs": [],
   "source": [
    "def load_price_paid_data(filepaths: list[Path]) -> pd.DataFrame:\n",
    "    \"\"\"\n",
    "    Load price paid data from a CSV file.\n",
    "    \"\"\"\n",
    "    column_names = [\n",
    "        'transaction_id', 'price', 'date_of_transfer', 'postcode', 'property_type',\n",
    "        'old_new', 'duration', 'paon', 'saon', 'street', 'locality', 'town_city',\n",
    "        'district', 'country', 'ppd_category_type', 'record_status'\n",
    "        ]\n",
    "\n",
    "    df = pd.concat(\n",
    "        [\n",
    "            pd.read_csv(\n",
    "                filename,\n",
    "                names=column_names,\n",
    "            )\n",
    "            for filename in filepaths\n",
    "        ]\n",
    "    )\n",
    "    df['date_of_transfer'] = pd.to_datetime(df['date_of_transfer'])\n",
    "\n",
    "    # Construct a property_id column\n",
    "    df['property_id'] = (\n",
    "        df[['postcode', 'paon', 'saon']].astype(str).apply(\n",
    "            lambda x: md5(''.join(x).encode()).hexdigest(), axis=1\n",
    "        )\n",
    "    )\n",
    "\n",
    "    return df"
   ]
  },
  {
   "cell_type": "code",
   "execution_count": null,
   "metadata": {},
   "outputs": [],
   "source": [
    "def load_postcodes_data(filepath: Path) -> pd.DataFrame:\n",
    "    \"\"\"\n",
    "    Load postcodes data from a CSV file.\n",
    "    \"\"\"\n",
    "\n",
    "    column_names = [\n",
    "        'postcode_1', 'postcode_2', 'postcode_3', 'easting', 'northing', 'positional_quality', 'local_authority',\n",
    "        'longtitude', 'latitude', 'spatial_accuracy', 'last_uploaded', 'location', 'socrata_id',\n",
    "    ]\n",
    "\n",
    "    df = pd.read_csv(filepath, names=column_names, header=0)\n",
    "    return df"
   ]
  },
  {
   "cell_type": "code",
   "execution_count": null,
   "metadata": {},
   "outputs": [],
   "source": [
    "transactions_pp = load_price_paid_data(\n",
    "    [PRICE_PAID_FILE_FIRST,\n",
    "    PRICE_PAID_FILE_SECOND]\n",
    ")\n",
    "\n",
    "\n",
    "postcodes = load_postcodes_data(POSTCODES_COORDINATES_FILE)"
   ]
  },
  {
   "cell_type": "code",
   "execution_count": null,
   "metadata": {},
   "outputs": [],
   "source": [
    "merged_df = transactions_pp.merge(postcodes, left_on='postcode', right_on='postcode_2')\n",
    "\n",
    "merged_df['year'] = merged_df['date_of_transfer'].dt.year\n",
    "\n",
    "\n"
   ]
  },
  {
   "cell_type": "code",
   "execution_count": null,
   "metadata": {},
   "outputs": [],
   "source": [
    "ec1a = merged_df[merged_df['postcode'].str.startswith('EC1A')]\n",
    "\n",
    "center_ec1a = (ec1a['longtitude'].mean(), ec1a['latitude'].mean())\n",
    "\n",
    "print(center_ec1a)\n"
   ]
  },
  {
   "cell_type": "code",
   "execution_count": null,
   "metadata": {},
   "outputs": [],
   "source": [
    "merged_df['distance_from_ec1a'] = np.sqrt((merged_df['longtitude'] - center_ec1a[0])**2 + (merged_df['latitude'] - center_ec1a[1])**2)\n",
    "\n"
   ]
  },
  {
   "cell_type": "code",
   "execution_count": null,
   "metadata": {},
   "outputs": [],
   "source": [
    "grouped = merged_df.groupby('postcode').agg({'price': 'mean', 'distance_from_ec1a': 'mean'}).round(2)\n",
    "\n",
    "# Filter out rows where distance is greater than 6\n",
    "grouped = grouped.loc[grouped['distance_from_ec1a'] <= 6]\n",
    "\n",
    "grouped.head()"
   ]
  },
  {
   "cell_type": "code",
   "execution_count": null,
   "metadata": {},
   "outputs": [],
   "source": [
    "import numpy as np\n",
    "import matplotlib.pyplot as plt\n",
    "\n",
    "grouped_mean = grouped.groupby('distance_from_ec1a', as_index=False).mean()\n",
    "\n",
    "x = grouped_mean['distance_from_ec1a']\n",
    "y = grouped_mean['price']\n",
    "\n",
    "from scipy.optimize import curve_fit\n",
    "def exp_func(x, a, b):\n",
    "    return a * np.exp(b * x)\n",
    "\n",
    "# Fit the data to the exponential function\n",
    "popt, pcov = curve_fit(exp_func, x, y)\n",
    "\n",
    "# Calculate y values for the fitted curve\n",
    "y_fit = exp_func(x, *popt)\n",
    "\n",
    "plt.figure(figsize=(10, 6))\n",
    "plt.scatter(x, y, s=1)\n",
    "\n",
    "plt.plot(x, y_fit, color='red')\n",
    "\n",
    "plt.title('Average Transaction Price vs Distance from EC1A')\n",
    "plt.xlabel('Distance from EC1A')\n",
    "plt.ylabel('Average Transaction Price')\n",
    "\n",
    "plt.show()"
   ]
  }
 ],
 "metadata": {
  "kernelspec": {
   "display_name": ".venv",
   "language": "python",
   "name": "python3"
  },
  "language_info": {
   "codemirror_mode": {
    "name": "ipython",
    "version": 3
   },
   "file_extension": ".py",
   "mimetype": "text/x-python",
   "name": "python",
   "nbconvert_exporter": "python",
   "pygments_lexer": "ipython3",
   "version": "3.12.0"
  }
 },
 "nbformat": 4,
 "nbformat_minor": 2
}
