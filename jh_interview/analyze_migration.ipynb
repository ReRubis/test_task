{
 "cells": [
  {
   "cell_type": "code",
   "execution_count": null,
   "metadata": {},
   "outputs": [],
   "source": [
    "import numpy as np\n",
    "import pandas as pd\n",
    "from pathlib import Path\n",
    "from dataclasses import dataclass, field\n",
    "from jh_interview.models import TransactionModel, PropertyModel, PostcodeModel\n",
    "\n",
    "from hashlib import md5"
   ]
  },
  {
   "cell_type": "code",
   "execution_count": null,
   "metadata": {},
   "outputs": [],
   "source": [
    "# Constants\n",
    "\n",
    "DATA_DIR = Path('../data/')\n",
    "\"\"\"Path to the data directory.\"\"\"\n",
    "\n",
    "PRICE_PAID_FILE_FIRST = DATA_DIR / 'pp-2019.csv'\n",
    "\"\"\"Path to the first price paid data file.\"\"\"\n",
    "\n",
    "PRICE_PAID_FILE_SECOND = DATA_DIR / 'pp-2020.csv'\n",
    "\"\"\"Path to the second price paid data file.\"\"\"\n",
    "\n",
    "POSTCODES_COORDINATES_FILE = DATA_DIR / 'National_Statistics_Postcode_Lookup_UK_Coordinates_20240406.csv'"
   ]
  },
  {
   "cell_type": "code",
   "execution_count": null,
   "metadata": {},
   "outputs": [],
   "source": [
    "def load_price_paid_data(filepaths: list[Path]) -> pd.DataFrame:\n",
    "    \"\"\"\n",
    "    Load price paid data from a CSV file.\n",
    "    \"\"\"\n",
    "    column_names = [\n",
    "        'transaction_id', 'price', 'date_of_transfer', 'postcode', 'property_type',\n",
    "        'old_new', 'duration', 'paon', 'saon', 'street', 'locality', 'town_city',\n",
    "        'district', 'country', 'ppd_category_type', 'record_status'\n",
    "        ]\n",
    "\n",
    "    df = pd.concat(\n",
    "        [\n",
    "            pd.read_csv(\n",
    "                filename,\n",
    "                names=column_names,\n",
    "            )\n",
    "            for filename in filepaths\n",
    "        ]\n",
    "    )\n",
    "    df['date_of_transfer'] = pd.to_datetime(df['date_of_transfer'])\n",
    "\n",
    "    # Construct a property_id column\n",
    "    df['property_id'] = (\n",
    "        df[['postcode', 'paon', 'saon']].astype(str).apply(\n",
    "            lambda x: md5(''.join(x).encode()).hexdigest(), axis=1\n",
    "        )\n",
    "    )\n",
    "\n",
    "    return df"
   ]
  },
  {
   "cell_type": "code",
   "execution_count": null,
   "metadata": {},
   "outputs": [],
   "source": [
    "def load_postcodes_data(filepath: Path) -> pd.DataFrame:\n",
    "    \"\"\"\n",
    "    Load postcodes data from a CSV file.\n",
    "    \"\"\"\n",
    "\n",
    "    column_names = [\n",
    "        'postcode_1', 'postcode_2', 'postcode_3', 'easting', 'northing', 'positional_quality', 'local_authority',\n",
    "        'longtitude', 'latitude', 'spatial_accuracy', 'last_uploaded', 'location', 'socrata_id',\n",
    "    ]\n",
    "\n",
    "    df = pd.read_csv(filepath, names=column_names, header=0)\n",
    "    return df"
   ]
  },
  {
   "cell_type": "code",
   "execution_count": null,
   "metadata": {},
   "outputs": [],
   "source": [
    "transactions_pp = load_price_paid_data(\n",
    "    [PRICE_PAID_FILE_FIRST,\n",
    "    PRICE_PAID_FILE_SECOND]\n",
    ")\n",
    "\n",
    "\n",
    "postcodes = load_postcodes_data(POSTCODES_COORDINATES_FILE)"
   ]
  },
  {
   "cell_type": "code",
   "execution_count": null,
   "metadata": {},
   "outputs": [],
   "source": [
    "postcodes.head()"
   ]
  },
  {
   "cell_type": "code",
   "execution_count": null,
   "metadata": {},
   "outputs": [],
   "source": [
    "merged_df = transactions_pp.merge(postcodes, left_on='postcode', right_on='postcode_1')\n",
    "\n",
    "merged_df['year'] = merged_df['date_of_transfer'].dt.year\n"
   ]
  },
  {
   "cell_type": "code",
   "execution_count": null,
   "metadata": {},
   "outputs": [],
   "source": [
    "\n",
    "grouped_df = merged_df.groupby('year').agg({\n",
    "    'price': 'sum',\n",
    "    'transaction_id': 'count',\n",
    "    'latitude': 'mean',\n",
    "    'longtitude': 'mean'\n",
    "}).reset_index()\n",
    "\n",
    "grouped_df['weighted_lat_transactions'] = grouped_df['latitude'] * grouped_df['transaction_id']\n",
    "grouped_df['weighted_lon_transactions'] = grouped_df['longtitude'] * grouped_df['transaction_id']\n",
    "\n",
    "grouped_df['weighted_lat_value'] = grouped_df['latitude'] * grouped_df['price']\n",
    "grouped_df['weighted_lon_value'] = grouped_df['longtitude'] * grouped_df['price']\n",
    "\n",
    "grouped_df['centre_of_gravity_transactions'] = (\n",
    "    grouped_df['weighted_lat_transactions'] / grouped_df['transaction_id'],\n",
    "    grouped_df['weighted_lon_transactions'] / grouped_df['transaction_id']\n",
    ")\n",
    "\n",
    "grouped_df['centre_of_gravity_value'] = (grouped_df['weighted_lat_value'] / grouped_df['price'], grouped_df['weighted_lon_value'] / grouped_df['price'])\n",
    "\n"
   ]
  },
  {
   "cell_type": "code",
   "execution_count": null,
   "metadata": {},
   "outputs": [],
   "source": [
    "grouped_df['centre_of_gravity_transactions'] = grouped_df.apply(lambda row: (row['weighted_lat_transactions'] / row['transaction_id'], row['weighted_lon_transactions'] / row['transaction_id']), axis=1)\n",
    "grouped_df['centre_of_gravity_value'] = grouped_df.apply(lambda row: (row['weighted_lat_value'] / row['price'], row['weighted_lon_value'] / row['price']), axis=1)\n",
    "\n",
    "\n",
    "grouped_df['centre_of_gravity_transactions'] = grouped_df['centre_of_gravity_transactions'].apply(lambda x: f'({x[0]:.6f}, {x[1]:.6f})')\n",
    "grouped_df['centre_of_gravity_value'] = grouped_df['centre_of_gravity_value'].apply(lambda x: f'({x[0]:.6f}, {x[1]:.6f})')\n",
    "\n",
    "\n",
    "print(grouped_df[['year', 'centre_of_gravity_transactions', 'centre_of_gravity_value']].to_string(index=False))"
   ]
  }
 ],
 "metadata": {
  "kernelspec": {
   "display_name": ".venv",
   "language": "python",
   "name": "python3"
  },
  "language_info": {
   "codemirror_mode": {
    "name": "ipython",
    "version": 3
   },
   "file_extension": ".py",
   "mimetype": "text/x-python",
   "name": "python",
   "nbconvert_exporter": "python",
   "pygments_lexer": "ipython3",
   "version": "3.12.0"
  }
 },
 "nbformat": 4,
 "nbformat_minor": 2
}
