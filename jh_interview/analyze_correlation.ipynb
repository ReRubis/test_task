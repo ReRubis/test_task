{
 "cells": [
  {
   "cell_type": "code",
   "execution_count": null,
   "metadata": {},
   "outputs": [],
   "source": [
    "import numpy as np\n",
    "import pandas as pd\n",
    "from pathlib import Path\n",
    "from dataclasses import dataclass, field\n",
    "from jh_interview.models import TransactionModel, PropertyModel, PostcodeModel\n",
    "\n",
    "from hashlib import md5"
   ]
  },
  {
   "cell_type": "code",
   "execution_count": null,
   "metadata": {},
   "outputs": [],
   "source": [
    "# Constants\n",
    "\n",
    "DATA_DIR = Path('../data/')\n",
    "\"\"\"Path to the data directory.\"\"\"\n",
    "\n",
    "CPI_INDEX_FILE = DATA_DIR / 'mm23.csv'\n",
    "\n",
    "AVERAGE_PRICES_FILE = DATA_DIR / 'Average-prices-2021-03.csv'\n",
    "\"\"\"Path to the average prices data file.\"\"\"\n"
   ]
  },
  {
   "cell_type": "code",
   "execution_count": null,
   "metadata": {},
   "outputs": [],
   "source": [
    "def load_cpi_index_by_month(filepath: Path) -> pd.DataFrame:\n",
    "    \"\"\"Load the CPI index data.\"\"\"\n",
    "    df = pd.read_csv(filepath, parse_dates=True)\n",
    "\n",
    "    cdid_rows = df[df.iloc[:, 0] == 'CDID']\n",
    "\n",
    "    pattern = r'^\\d{4}\\s[A-Z]{3}$'\n",
    "    df_filtered = df[df.iloc[:, 0].str.match(pattern)]\n",
    "\n",
    "    month_dict = {'JAN': '01', 'FEB': '02', 'MAR': '03', 'APR': '04', 'MAY': '05', 'JUN': '06', \n",
    "              'JUL': '07', 'AUG': '08', 'SEP': '09', 'OCT': '10', 'NOV': '11', 'DEC': '12'}\n",
    "    \n",
    "    df_filtered[['Year', 'Month']] = df_filtered.iloc[:, 0].str.split(' ', expand=True)\n",
    "    df_filtered['Month'] = df_filtered['Month'].replace(month_dict)\n",
    "    df_filtered.iloc[:, 0] = df_filtered['Year'] + '-' + df_filtered['Month']\n",
    "    df_filtered = df_filtered.drop(['Year', 'Month'], axis=1)\n",
    "\n",
    "    cdid_list = cdid_rows.iloc[0, :].values.tolist()\n",
    "\n",
    "    cdid_list[0]= 'Date'\n",
    "\n",
    "    df_filtered.columns = cdid_list\n",
    "\n",
    "    return df_filtered"
   ]
  },
  {
   "cell_type": "code",
   "execution_count": null,
   "metadata": {},
   "outputs": [],
   "source": [
    "def load_average_prices_data(filepath: Path) -> pd.DataFrame:\n",
    "    \"\"\"\n",
    "    Load average prices data from a CSV file.\n",
    "    \"\"\"\n",
    "    column_names = [\n",
    "        \"Date\", \"Region_Name\", \"Area_Code\", \"Average_Price\", \"Monthly_Change\", \"Annual_Change\", \"Average_Price_SA\",\n",
    "    ]\n",
    "    df = pd.read_csv(filepath, names=column_names, header=0)\n",
    "    df = df[df['Region_Name'] == 'United Kingdom']\n",
    "\n",
    "    df = df[['Date', 'Average_Price']]\n",
    "    \n",
    "    df['Date'] = df['Date'].str.slice(0, -3)\n",
    "    return df"
   ]
  },
  {
   "cell_type": "code",
   "execution_count": null,
   "metadata": {},
   "outputs": [],
   "source": [
    "\n",
    "average_prices = load_average_prices_data(AVERAGE_PRICES_FILE)\n",
    "\n",
    "cpi_data = load_cpi_index_by_month(CPI_INDEX_FILE)\n",
    "\n",
    "average_prices.head()"
   ]
  },
  {
   "cell_type": "code",
   "execution_count": null,
   "metadata": {},
   "outputs": [],
   "source": [
    "\n",
    "\n",
    "cpi_data.head()"
   ]
  },
  {
   "cell_type": "code",
   "execution_count": null,
   "metadata": {},
   "outputs": [],
   "source": [
    "average_prices['Date'] = pd.to_datetime(average_prices['Date'])\n",
    "cpi_data['Date'] = pd.to_datetime(cpi_data['Date'])\n",
    "\n",
    "\n",
    "merged_data = pd.merge(average_prices, cpi_data, left_on='Date', right_on='Date')\n",
    "\n",
    "\n",
    "correlations = merged_data.drop('Date', axis=1).corr()['Average_Price'].dropna()\n",
    "\n",
    "\n"
   ]
  },
  {
   "cell_type": "code",
   "execution_count": null,
   "metadata": {},
   "outputs": [],
   "source": [
    "top_5 = correlations.nlargest(6)\n",
    "\n",
    "bottom_5 = correlations.nsmallest(5)\n",
    "\n",
    "print(top_5)\n",
    "print(bottom_5)"
   ]
  }
 ],
 "metadata": {
  "kernelspec": {
   "display_name": ".venv",
   "language": "python",
   "name": "python3"
  },
  "language_info": {
   "codemirror_mode": {
    "name": "ipython",
    "version": 3
   },
   "file_extension": ".py",
   "mimetype": "text/x-python",
   "name": "python",
   "nbconvert_exporter": "python",
   "pygments_lexer": "ipython3",
   "version": "3.12.0"
  }
 },
 "nbformat": 4,
 "nbformat_minor": 2
}
