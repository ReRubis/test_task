{
 "cells": [
  {
   "cell_type": "code",
   "execution_count": 3,
   "metadata": {},
   "outputs": [],
   "source": [
    "import numpy as np\n",
    "import pandas as pd\n",
    "from pathlib import Path\n",
    "from dataclasses import dataclass, field\n",
    "from jh_interview.models import TransactionModel, PropertyModel, PostcodeModel\n",
    "\n",
    "from hashlib import md5"
   ]
  },
  {
   "cell_type": "code",
   "execution_count": 4,
   "metadata": {},
   "outputs": [
    {
     "data": {
      "text/plain": [
       "'Path to the average prices data file.'"
      ]
     },
     "execution_count": 4,
     "metadata": {},
     "output_type": "execute_result"
    }
   ],
   "source": [
    "# Constants\n",
    "\n",
    "DATA_DIR = Path('../data/')\n",
    "\"\"\"Path to the data directory.\"\"\"\n",
    "\n",
    "PRICE_PAID_FILE_FIRST = DATA_DIR / 'pp-2019.csv'\n",
    "\"\"\"Path to the first price paid data file.\"\"\"\n",
    "\n",
    "PRICE_PAID_FILE_SECOND = DATA_DIR / 'pp-2020.csv'\n",
    "\"\"\"Path to the second price paid data file.\"\"\"\n",
    "\n",
    "HOUSE_PRICE_INDEX_FILE = DATA_DIR / 'UK-HPI-full-file-2021-03.csv'\n",
    "\"\"\"Path to the house price index data file.\"\"\"\n",
    "\n",
    "AVERAGE_PRICES_FILE = DATA_DIR / 'Average-prices-2021-03.csv'\n",
    "\"\"\"Path to the average prices data file.\"\"\""
   ]
  },
  {
   "cell_type": "code",
   "execution_count": 5,
   "metadata": {},
   "outputs": [],
   "source": [
    "def load_price_paid_data(filepaths: list[Path]) -> pd.DataFrame:\n",
    "    \"\"\"\n",
    "    Load price paid data from a CSV file.\n",
    "    \"\"\"\n",
    "    column_names = [\n",
    "        'transaction_id', 'price', 'date_of_transfer', 'postcode', 'property_type',\n",
    "        'old_new', 'duration', 'paon', 'saon', 'street', 'locality', 'town_city',\n",
    "        'district', 'country', 'ppd_category_type', 'record_status'\n",
    "        ]\n",
    "\n",
    "    df = pd.concat(\n",
    "        [\n",
    "            pd.read_csv(\n",
    "                filename,\n",
    "                names=column_names,\n",
    "            )\n",
    "            for filename in filepaths\n",
    "        ]\n",
    "    )\n",
    "    df['date_of_transfer'] = pd.to_datetime(df['date_of_transfer'])\n",
    "    return df"
   ]
  },
  {
   "cell_type": "code",
   "execution_count": 6,
   "metadata": {},
   "outputs": [],
   "source": [
    "def load_price_index_data(filepath: Path) -> pd.DataFrame:\n",
    "    \"\"\"\n",
    "    Load house price index data from a CSV file.\n",
    "    \"\"\"\n",
    "    column_names = [\n",
    "        \"Date\", \"RegionName\", \"AreaCode\", \"AveragePrice\", \"Index\", \"IndexSA\",\n",
    "        \"1m%Change\", \"12m%Change\", \"AveragePriceSA\", \"SalesVolume\",\n",
    "        \"DetachedPrice\", \"DetachedIndex\", \"Detached1m%Change\", \"Detached12m%Change\",\n",
    "        \"SemiDetachedPrice\", \"SemiDetachedIndex\", \"SemiDetached1m%Change\", \"SemiDetached12m%Change\",\n",
    "        \"TerracedPrice\", \"TerracedIndex\", \"Terraced1m%Change\", \"Terraced12m%Change\",\n",
    "        \"FlatPrice\", \"FlatIndex\", \"Flat1m%Change\", \"Flat12m%Change\",\n",
    "        \"CashPrice\", \"CashIndex\", \"Cash1m%Change\", \"Cash12m%Change\", \"CashSalesVolume\",\n",
    "        \"MortgagePrice\", \"MortgageIndex\", \"Mortgage1m%Change\", \"Mortgage12m%Change\", \"MortgageSalesVolume\",\n",
    "        \"FTBPrice\", \"FTBIndex\", \"FTB1m%Change\", \"FTB12m%Change\",\n",
    "        \"FOOPrice\", \"FOOIndex\", \"FOO1m%Change\", \"FOO12m%Change\",\n",
    "        \"NewPrice\", \"NewIndex\", \"New1m%Change\", \"New12m%Change\", \"NewSalesVolume\",\n",
    "        \"OldPrice\", \"OldIndex\", \"Old1m%Change\", \"Old12m%Change\", \"OldSalesVolume\",\n",
    "    ]\n",
    "    df = pd.read_csv(filepath, names=column_names, header=0)\n",
    "    df['Date'] = pd.to_datetime(df['Date'])\n",
    "    return df"
   ]
  },
  {
   "cell_type": "code",
   "execution_count": 7,
   "metadata": {},
   "outputs": [],
   "source": [
    "def load_average_prices_data(filepath: Path) -> pd.DataFrame:\n",
    "    \"\"\"\n",
    "    Load average prices data from a CSV file.\n",
    "    \"\"\"\n",
    "    column_names = [\n",
    "        \"Date\", \"Region_Name\", \"Area_Code\", \"Average_Price\", \"Monthly_Change\", \"Annual_Change\", \"Average_Price_SA\",\n",
    "    ]\n",
    "    df = pd.read_csv(filepath, names=column_names, header=0)\n",
    "    df['Date'] = pd.to_datetime(df['Date'])\n",
    "    return df"
   ]
  },
  {
   "cell_type": "code",
   "execution_count": 8,
   "metadata": {},
   "outputs": [],
   "source": [
    "transactions_pp = load_price_paid_data(\n",
    "    [PRICE_PAID_FILE_FIRST,\n",
    "    PRICE_PAID_FILE_SECOND]\n",
    ")\n",
    "\n",
    "# Construct a property_id column\n",
    "transactions_pp['property_id'] = (\n",
    "    transactions_pp[['postcode', 'paon', 'saon']].astype(str).apply(\n",
    "        lambda x: md5(''.join(x).encode()).hexdigest(), axis=1\n",
    "        )\n",
    "    )\n",
    "price_index = load_price_index_data(HOUSE_PRICE_INDEX_FILE)\n",
    "average_prices = load_average_prices_data(AVERAGE_PRICES_FILE)"
   ]
  },
  {
   "cell_type": "code",
   "execution_count": 1,
   "metadata": {},
   "outputs": [],
   "source": [
    "from jh_interview.database.schemas import Property, Transaction, Postcode\n",
    "from jh_interview.database.db_session import get_session, DB_init, MSSQL_LINK\n",
    "from jh_interview.database.repository import PropertyRepository, TransactionRepository, PostcodeRepository\n",
    "from sqlalchemy.orm import Session\n",
    "\n",
    "from jh_interview.service.property import PropertyService\n",
    "\n",
    "DB_init()\n",
    "\n",
    "def chunked_data(data, chunk_size):\n",
    "    return (data[i:i+chunk_size] for i in range(0, len(data), chunk_size))"
   ]
  },
  {
   "cell_type": "code",
   "execution_count": 8,
   "metadata": {},
   "outputs": [
    {
     "ename": "KeyboardInterrupt",
     "evalue": "",
     "output_type": "error",
     "traceback": [
      "\u001b[0;31m---------------------------------------------------------------------------\u001b[0m",
      "\u001b[0;31mKeyboardInterrupt\u001b[0m                         Traceback (most recent call last)",
      "Cell \u001b[0;32mIn[8], line 4\u001b[0m\n\u001b[1;32m      1\u001b[0m \u001b[38;5;28;01mfrom\u001b[39;00m \u001b[38;5;21;01mcollections\u001b[39;00m \u001b[38;5;28;01mimport\u001b[39;00m defaultdict\n\u001b[1;32m      3\u001b[0m \u001b[38;5;28;01mwith\u001b[39;00m get_session() \u001b[38;5;28;01mas\u001b[39;00m session:\n\u001b[0;32m----> 4\u001b[0m     transactions_pp[\u001b[38;5;124m'\u001b[39m\u001b[38;5;124mproperty_id\u001b[39m\u001b[38;5;124m'\u001b[39m] \u001b[38;5;241m=\u001b[39m (\u001b[43mtransactions_pp\u001b[49m\u001b[43m[\u001b[49m\u001b[43m[\u001b[49m\u001b[38;5;124;43m'\u001b[39;49m\u001b[38;5;124;43mpostcode\u001b[39;49m\u001b[38;5;124;43m'\u001b[39;49m\u001b[43m,\u001b[49m\u001b[43m \u001b[49m\u001b[38;5;124;43m'\u001b[39;49m\u001b[38;5;124;43mpaon\u001b[39;49m\u001b[38;5;124;43m'\u001b[39;49m\u001b[43m,\u001b[49m\u001b[43m \u001b[49m\u001b[38;5;124;43m'\u001b[39;49m\u001b[38;5;124;43msaon\u001b[39;49m\u001b[38;5;124;43m'\u001b[39;49m\u001b[43m]\u001b[49m\u001b[43m]\u001b[49m\u001b[38;5;241;43m.\u001b[39;49m\u001b[43mastype\u001b[49m\u001b[43m(\u001b[49m\u001b[38;5;28;43mstr\u001b[39;49m\u001b[43m)\u001b[49m\u001b[38;5;241;43m.\u001b[39;49m\u001b[43mapply\u001b[49m\u001b[43m(\u001b[49m\u001b[38;5;28;43;01mlambda\u001b[39;49;00m\u001b[43m \u001b[49m\u001b[43mx\u001b[49m\u001b[43m:\u001b[49m\u001b[43m \u001b[49m\u001b[43mmd5\u001b[49m\u001b[43m(\u001b[49m\u001b[38;5;124;43m'\u001b[39;49m\u001b[38;5;124;43m'\u001b[39;49m\u001b[38;5;241;43m.\u001b[39;49m\u001b[43mjoin\u001b[49m\u001b[43m(\u001b[49m\u001b[43mx\u001b[49m\u001b[43m)\u001b[49m\u001b[38;5;241;43m.\u001b[39;49m\u001b[43mencode\u001b[49m\u001b[43m(\u001b[49m\u001b[43m)\u001b[49m\u001b[43m)\u001b[49m\u001b[38;5;241;43m.\u001b[39;49m\u001b[43mhexdigest\u001b[49m\u001b[43m(\u001b[49m\u001b[43m)\u001b[49m\u001b[43m,\u001b[49m\u001b[43m \u001b[49m\u001b[43maxis\u001b[49m\u001b[38;5;241;43m=\u001b[39;49m\u001b[38;5;241;43m1\u001b[39;49m\u001b[43m)\u001b[49m)\n\u001b[1;32m      6\u001b[0m     property_data \u001b[38;5;241m=\u001b[39m defaultdict(\u001b[38;5;28;01mlambda\u001b[39;00m: {\u001b[38;5;124m'\u001b[39m\u001b[38;5;124mtransactions\u001b[39m\u001b[38;5;124m'\u001b[39m: []})\n\u001b[1;32m      8\u001b[0m     \u001b[38;5;28;01mfor\u001b[39;00m _, row \u001b[38;5;129;01min\u001b[39;00m transactions_pp\u001b[38;5;241m.\u001b[39miterrows():\n",
      "File \u001b[0;32m/workspaces/tamarix_test/.venv/lib/python3.12/site-packages/pandas/core/frame.py:10361\u001b[0m, in \u001b[0;36mDataFrame.apply\u001b[0;34m(self, func, axis, raw, result_type, args, by_row, engine, engine_kwargs, **kwargs)\u001b[0m\n\u001b[1;32m  10347\u001b[0m \u001b[38;5;28;01mfrom\u001b[39;00m \u001b[38;5;21;01mpandas\u001b[39;00m\u001b[38;5;21;01m.\u001b[39;00m\u001b[38;5;21;01mcore\u001b[39;00m\u001b[38;5;21;01m.\u001b[39;00m\u001b[38;5;21;01mapply\u001b[39;00m \u001b[38;5;28;01mimport\u001b[39;00m frame_apply\n\u001b[1;32m  10349\u001b[0m op \u001b[38;5;241m=\u001b[39m frame_apply(\n\u001b[1;32m  10350\u001b[0m     \u001b[38;5;28mself\u001b[39m,\n\u001b[1;32m  10351\u001b[0m     func\u001b[38;5;241m=\u001b[39mfunc,\n\u001b[0;32m   (...)\u001b[0m\n\u001b[1;32m  10359\u001b[0m     kwargs\u001b[38;5;241m=\u001b[39mkwargs,\n\u001b[1;32m  10360\u001b[0m )\n\u001b[0;32m> 10361\u001b[0m \u001b[38;5;28;01mreturn\u001b[39;00m \u001b[43mop\u001b[49m\u001b[38;5;241;43m.\u001b[39;49m\u001b[43mapply\u001b[49m\u001b[43m(\u001b[49m\u001b[43m)\u001b[49m\u001b[38;5;241m.\u001b[39m__finalize__(\u001b[38;5;28mself\u001b[39m, method\u001b[38;5;241m=\u001b[39m\u001b[38;5;124m\"\u001b[39m\u001b[38;5;124mapply\u001b[39m\u001b[38;5;124m\"\u001b[39m)\n",
      "File \u001b[0;32m/workspaces/tamarix_test/.venv/lib/python3.12/site-packages/pandas/core/apply.py:916\u001b[0m, in \u001b[0;36mFrameApply.apply\u001b[0;34m(self)\u001b[0m\n\u001b[1;32m    913\u001b[0m \u001b[38;5;28;01melif\u001b[39;00m \u001b[38;5;28mself\u001b[39m\u001b[38;5;241m.\u001b[39mraw:\n\u001b[1;32m    914\u001b[0m     \u001b[38;5;28;01mreturn\u001b[39;00m \u001b[38;5;28mself\u001b[39m\u001b[38;5;241m.\u001b[39mapply_raw(engine\u001b[38;5;241m=\u001b[39m\u001b[38;5;28mself\u001b[39m\u001b[38;5;241m.\u001b[39mengine, engine_kwargs\u001b[38;5;241m=\u001b[39m\u001b[38;5;28mself\u001b[39m\u001b[38;5;241m.\u001b[39mengine_kwargs)\n\u001b[0;32m--> 916\u001b[0m \u001b[38;5;28;01mreturn\u001b[39;00m \u001b[38;5;28;43mself\u001b[39;49m\u001b[38;5;241;43m.\u001b[39;49m\u001b[43mapply_standard\u001b[49m\u001b[43m(\u001b[49m\u001b[43m)\u001b[49m\n",
      "File \u001b[0;32m/workspaces/tamarix_test/.venv/lib/python3.12/site-packages/pandas/core/apply.py:1063\u001b[0m, in \u001b[0;36mFrameApply.apply_standard\u001b[0;34m(self)\u001b[0m\n\u001b[1;32m   1061\u001b[0m \u001b[38;5;28;01mdef\u001b[39;00m \u001b[38;5;21mapply_standard\u001b[39m(\u001b[38;5;28mself\u001b[39m):\n\u001b[1;32m   1062\u001b[0m     \u001b[38;5;28;01mif\u001b[39;00m \u001b[38;5;28mself\u001b[39m\u001b[38;5;241m.\u001b[39mengine \u001b[38;5;241m==\u001b[39m \u001b[38;5;124m\"\u001b[39m\u001b[38;5;124mpython\u001b[39m\u001b[38;5;124m\"\u001b[39m:\n\u001b[0;32m-> 1063\u001b[0m         results, res_index \u001b[38;5;241m=\u001b[39m \u001b[38;5;28;43mself\u001b[39;49m\u001b[38;5;241;43m.\u001b[39;49m\u001b[43mapply_series_generator\u001b[49m\u001b[43m(\u001b[49m\u001b[43m)\u001b[49m\n\u001b[1;32m   1064\u001b[0m     \u001b[38;5;28;01melse\u001b[39;00m:\n\u001b[1;32m   1065\u001b[0m         results, res_index \u001b[38;5;241m=\u001b[39m \u001b[38;5;28mself\u001b[39m\u001b[38;5;241m.\u001b[39mapply_series_numba()\n",
      "File \u001b[0;32m/workspaces/tamarix_test/.venv/lib/python3.12/site-packages/pandas/core/apply.py:1081\u001b[0m, in \u001b[0;36mFrameApply.apply_series_generator\u001b[0;34m(self)\u001b[0m\n\u001b[1;32m   1078\u001b[0m \u001b[38;5;28;01mwith\u001b[39;00m option_context(\u001b[38;5;124m\"\u001b[39m\u001b[38;5;124mmode.chained_assignment\u001b[39m\u001b[38;5;124m\"\u001b[39m, \u001b[38;5;28;01mNone\u001b[39;00m):\n\u001b[1;32m   1079\u001b[0m     \u001b[38;5;28;01mfor\u001b[39;00m i, v \u001b[38;5;129;01min\u001b[39;00m \u001b[38;5;28menumerate\u001b[39m(series_gen):\n\u001b[1;32m   1080\u001b[0m         \u001b[38;5;66;03m# ignore SettingWithCopy here in case the user mutates\u001b[39;00m\n\u001b[0;32m-> 1081\u001b[0m         results[i] \u001b[38;5;241m=\u001b[39m \u001b[38;5;28;43mself\u001b[39;49m\u001b[38;5;241;43m.\u001b[39;49m\u001b[43mfunc\u001b[49m\u001b[43m(\u001b[49m\u001b[43mv\u001b[49m\u001b[43m,\u001b[49m\u001b[43m \u001b[49m\u001b[38;5;241;43m*\u001b[39;49m\u001b[38;5;28;43mself\u001b[39;49m\u001b[38;5;241;43m.\u001b[39;49m\u001b[43margs\u001b[49m\u001b[43m,\u001b[49m\u001b[43m \u001b[49m\u001b[38;5;241;43m*\u001b[39;49m\u001b[38;5;241;43m*\u001b[39;49m\u001b[38;5;28;43mself\u001b[39;49m\u001b[38;5;241;43m.\u001b[39;49m\u001b[43mkwargs\u001b[49m\u001b[43m)\u001b[49m\n\u001b[1;32m   1082\u001b[0m         \u001b[38;5;28;01mif\u001b[39;00m \u001b[38;5;28misinstance\u001b[39m(results[i], ABCSeries):\n\u001b[1;32m   1083\u001b[0m             \u001b[38;5;66;03m# If we have a view on v, we need to make a copy because\u001b[39;00m\n\u001b[1;32m   1084\u001b[0m             \u001b[38;5;66;03m#  series_generator will swap out the underlying data\u001b[39;00m\n\u001b[1;32m   1085\u001b[0m             results[i] \u001b[38;5;241m=\u001b[39m results[i]\u001b[38;5;241m.\u001b[39mcopy(deep\u001b[38;5;241m=\u001b[39m\u001b[38;5;28;01mFalse\u001b[39;00m)\n",
      "Cell \u001b[0;32mIn[8], line 4\u001b[0m, in \u001b[0;36m<lambda>\u001b[0;34m(x)\u001b[0m\n\u001b[1;32m      1\u001b[0m \u001b[38;5;28;01mfrom\u001b[39;00m \u001b[38;5;21;01mcollections\u001b[39;00m \u001b[38;5;28;01mimport\u001b[39;00m defaultdict\n\u001b[1;32m      3\u001b[0m \u001b[38;5;28;01mwith\u001b[39;00m get_session() \u001b[38;5;28;01mas\u001b[39;00m session:\n\u001b[0;32m----> 4\u001b[0m     transactions_pp[\u001b[38;5;124m'\u001b[39m\u001b[38;5;124mproperty_id\u001b[39m\u001b[38;5;124m'\u001b[39m] \u001b[38;5;241m=\u001b[39m (transactions_pp[[\u001b[38;5;124m'\u001b[39m\u001b[38;5;124mpostcode\u001b[39m\u001b[38;5;124m'\u001b[39m, \u001b[38;5;124m'\u001b[39m\u001b[38;5;124mpaon\u001b[39m\u001b[38;5;124m'\u001b[39m, \u001b[38;5;124m'\u001b[39m\u001b[38;5;124msaon\u001b[39m\u001b[38;5;124m'\u001b[39m]]\u001b[38;5;241m.\u001b[39mastype(\u001b[38;5;28mstr\u001b[39m)\u001b[38;5;241m.\u001b[39mapply(\u001b[38;5;28;01mlambda\u001b[39;00m x: \u001b[43mmd5\u001b[49m\u001b[43m(\u001b[49m\u001b[38;5;124;43m'\u001b[39;49m\u001b[38;5;124;43m'\u001b[39;49m\u001b[38;5;241;43m.\u001b[39;49m\u001b[43mjoin\u001b[49m\u001b[43m(\u001b[49m\u001b[43mx\u001b[49m\u001b[43m)\u001b[49m\u001b[38;5;241;43m.\u001b[39;49m\u001b[43mencode\u001b[49m\u001b[43m(\u001b[49m\u001b[43m)\u001b[49m\u001b[43m)\u001b[49m\u001b[38;5;241m.\u001b[39mhexdigest(), axis\u001b[38;5;241m=\u001b[39m\u001b[38;5;241m1\u001b[39m))\n\u001b[1;32m      6\u001b[0m     property_data \u001b[38;5;241m=\u001b[39m defaultdict(\u001b[38;5;28;01mlambda\u001b[39;00m: {\u001b[38;5;124m'\u001b[39m\u001b[38;5;124mtransactions\u001b[39m\u001b[38;5;124m'\u001b[39m: []})\n\u001b[1;32m      8\u001b[0m     \u001b[38;5;28;01mfor\u001b[39;00m _, row \u001b[38;5;129;01min\u001b[39;00m transactions_pp\u001b[38;5;241m.\u001b[39miterrows():\n",
      "\u001b[0;31mKeyboardInterrupt\u001b[0m: "
     ]
    }
   ],
   "source": [
    "from collections import defaultdict\n",
    "\n",
    "with get_session() as session:\n",
    "    transactions_pp['property_id'] = (transactions_pp[['postcode', 'paon', 'saon']].astype(str).apply(lambda x: md5(''.join(x).encode()).hexdigest(), axis=1))\n",
    "\n",
    "    property_data = defaultdict(lambda: {'transactions': []})\n",
    "\n",
    "    for _, row in transactions_pp.iterrows():\n",
    "\n",
    "        property_id = row['property_id']\n",
    "\n",
    "        property_data[property_id].update({\n",
    "            'unique_id': property_id,\n",
    "            'property_type': row['property_type'] if pd.notna(row['property_type']) else None,\n",
    "            'postcode': row['postcode'] if pd.notna(row['postcode']) else None,\n",
    "            'old_new': row['old_new'] if pd.notna(row['old_new']) else None,\n",
    "            'paon': row['paon'] if pd.notna(row['paon']) else None,\n",
    "            'saon': row['saon'] if pd.notna(row['saon']) else None,\n",
    "            'street': row['street'] if pd.notna(row['street']) else None,\n",
    "            'locality': row['locality'] if pd.notna(row['locality']) else None,\n",
    "            'town_city': row['town_city'] if pd.notna(row['town_city']) else None,\n",
    "            'district': row['district'] if pd.notna(row['district']) else None,\n",
    "            'country': row['country'] if pd.notna(row['country']) else None,\n",
    "        })\n",
    "        property_data[property_id]['transactions'].append(row['transaction_id'])\n",
    "\n",
    "        \n",
    "    property_data = list(property_data.values())\n",
    "\n",
    "    print('Starting to insert property data')\n",
    "    for chunk in chunked_data(property_data, 1000):\n",
    "        session.bulk_insert_mappings(Property, chunk)\n",
    "\n",
    "\n",
    "\n",
    "    session.commit()"
   ]
  },
  {
   "cell_type": "code",
   "execution_count": 9,
   "metadata": {},
   "outputs": [
    {
     "name": "stdout",
     "output_type": "stream",
     "text": [
      "Starting to insert transaction data\n"
     ]
    }
   ],
   "source": [
    "with get_session() as session:\n",
    "    transaction_data = transactions_pp[[\n",
    "        'transaction_id',\n",
    "        'price',\n",
    "        'date_of_transfer',\n",
    "        'property_id',\n",
    "        'postcode',\n",
    "    ]].to_dict('records')\n",
    "\n",
    "    print(\"Starting to insert transaction data\")\n",
    "    for chunk in chunked_data(transaction_data, 1000):\n",
    "        session.bulk_insert_mappings(Transaction, chunk)\n",
    "    \n",
    "    session.commit()"
   ]
  },
  {
   "cell_type": "code",
   "execution_count": 2,
   "metadata": {},
   "outputs": [
    {
     "ename": "TypeError",
     "evalue": "TransactionModel.__init__() missing 1 required positional argument: 'postcode'",
     "output_type": "error",
     "traceback": [
      "\u001b[0;31m---------------------------------------------------------------------------\u001b[0m",
      "\u001b[0;31mTypeError\u001b[0m                                 Traceback (most recent call last)",
      "Cell \u001b[0;32mIn[2], line 22\u001b[0m\n\u001b[1;32m     19\u001b[0m     transactions_id_list\u001b[38;5;241m=\u001b[39mtransactions_id_list \u001b[38;5;241m+\u001b[39m \u001b[38;5;28mproperty\u001b[39m\u001b[38;5;241m.\u001b[39mtransactions\n\u001b[1;32m     21\u001b[0m \u001b[38;5;28;01mfor\u001b[39;00m \u001b[38;5;28mid\u001b[39m \u001b[38;5;129;01min\u001b[39;00m transactions_id_list:\n\u001b[0;32m---> 22\u001b[0m     transaction \u001b[38;5;241m=\u001b[39m \u001b[43mproperty_service\u001b[49m\u001b[38;5;241;43m.\u001b[39;49m\u001b[43mreturn_transaction\u001b[49m\u001b[43m(\u001b[49m\u001b[38;5;28;43mid\u001b[39;49m\u001b[43m)\u001b[49m\n\u001b[1;32m     23\u001b[0m     transactions\u001b[38;5;241m.\u001b[39mappend(transaction)\n\u001b[1;32m     26\u001b[0m \u001b[38;5;28mprint\u001b[39m(properties)\n",
      "File \u001b[0;32m/workspaces/tamarix_test/jh_interview/service/property.py:70\u001b[0m, in \u001b[0;36mPropertyService.return_transaction\u001b[0;34m(self, transaction_id)\u001b[0m\n\u001b[1;32m     67\u001b[0m     \u001b[38;5;28;01mreturn\u001b[39;00m \u001b[38;5;28;01mNone\u001b[39;00m\n\u001b[1;32m     69\u001b[0m \u001b[38;5;66;03m# Convert the sqlalchemy object to a dataclass model.\u001b[39;00m\n\u001b[0;32m---> 70\u001b[0m transaction \u001b[38;5;241m=\u001b[39m \u001b[43mTransactionModel\u001b[49m\u001b[43m(\u001b[49m\n\u001b[1;32m     71\u001b[0m \u001b[43m    \u001b[49m\u001b[43mtransaction_id\u001b[49m\u001b[38;5;241;43m=\u001b[39;49m\u001b[43mtransaction\u001b[49m\u001b[38;5;241;43m.\u001b[39;49m\u001b[43mtransaction_id\u001b[49m\u001b[43m,\u001b[49m\n\u001b[1;32m     72\u001b[0m \u001b[43m    \u001b[49m\u001b[43mproperty_id\u001b[49m\u001b[38;5;241;43m=\u001b[39;49m\u001b[43mtransaction\u001b[49m\u001b[38;5;241;43m.\u001b[39;49m\u001b[43mproperty_id\u001b[49m\u001b[43m,\u001b[49m\n\u001b[1;32m     73\u001b[0m \u001b[43m    \u001b[49m\u001b[43mprice\u001b[49m\u001b[38;5;241;43m=\u001b[39;49m\u001b[43mtransaction\u001b[49m\u001b[38;5;241;43m.\u001b[39;49m\u001b[43mprice\u001b[49m\u001b[43m,\u001b[49m\n\u001b[1;32m     74\u001b[0m \u001b[43m    \u001b[49m\u001b[43mdate_of_transfer\u001b[49m\u001b[38;5;241;43m=\u001b[39;49m\u001b[43mtransaction\u001b[49m\u001b[38;5;241;43m.\u001b[39;49m\u001b[43mdate_of_transfer\u001b[49m\u001b[43m,\u001b[49m\n\u001b[1;32m     75\u001b[0m \u001b[43m\u001b[49m\u001b[43m)\u001b[49m\n\u001b[1;32m     77\u001b[0m \u001b[38;5;28;01mreturn\u001b[39;00m transaction\n",
      "\u001b[0;31mTypeError\u001b[0m: TransactionModel.__init__() missing 1 required positional argument: 'postcode'"
     ]
    }
   ],
   "source": [
    "with get_session() as session:\n",
    "    property_repository = PropertyRepository(session)\n",
    "    transaction_repository = TransactionRepository(session)\n",
    "    postcode_repository = PostcodeRepository(session)\n",
    "\n",
    "    property_service = PropertyService(\n",
    "        postcode_repository,\n",
    "        property_repository,\n",
    "        transaction_repository,\n",
    "        )\n",
    "\n",
    "    \n",
    "    properties = property_service.return_properties_by_postcode('ST10 4BS')\n",
    "    \n",
    "    transactions_id_list = []\n",
    "    transactions = []\n",
    "\n",
    "    for property in properties:\n",
    "        transactions_id_list=transactions_id_list + property.transactions\n",
    "    \n",
    "    for id in transactions_id_list:\n",
    "        transaction = property_service.return_transaction(id)\n",
    "        transactions.append(transaction)\n",
    "    \n",
    "    \n",
    "    print(properties)\n",
    "    print(transactions_id_list)\n",
    "    print(transactions)"
   ]
  },
  {
   "cell_type": "code",
   "execution_count": 2,
   "metadata": {},
   "outputs": [
    {
     "name": "stdout",
     "output_type": "stream",
     "text": [
      "{'M15': 790, 'E14': 556, 'E16': 373, 'M4': 213, 'S3': 207, 'SE1': 203, 'BD1': 190, 'N4': 179, 'ME14': 142, 'SW4': 132, 'LS7': 129, 'LE17': 118, 'OX29': 111, 'ME13': 105, 'N11': 101, 'TN12': 98, 'B15': 91, 'N17': 90, 'CO11': 84, 'MK19': 84}\n"
     ]
    }
   ],
   "source": [
    "\n",
    "with get_session() as session:\n",
    "    property_repository = PropertyRepository(session)\n",
    "    transaction_repository = TransactionRepository(session)\n",
    "    postcode_repository = PostcodeRepository(session)\n",
    "\n",
    "    property_service = PropertyService(\n",
    "        postcode_repository,\n",
    "        property_repository,\n",
    "        transaction_repository,\n",
    "        )\n",
    "\n",
    "\n",
    "    result = property_service.return_highest_increase_postcodes(\n",
    "        years=['2019', '2020']\n",
    "    )\n",
    "    print(result)\n",
    "   "
   ]
  },
  {
   "cell_type": "code",
   "execution_count": null,
   "metadata": {},
   "outputs": [],
   "source": []
  }
 ],
 "metadata": {
  "kernelspec": {
   "display_name": ".venv",
   "language": "python",
   "name": "python3"
  },
  "language_info": {
   "codemirror_mode": {
    "name": "ipython",
    "version": 3
   },
   "file_extension": ".py",
   "mimetype": "text/x-python",
   "name": "python",
   "nbconvert_exporter": "python",
   "pygments_lexer": "ipython3",
   "version": "3.12.0"
  }
 },
 "nbformat": 4,
 "nbformat_minor": 2
}
